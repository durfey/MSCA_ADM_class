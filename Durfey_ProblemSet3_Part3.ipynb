{
 "cells": [
  {
   "cell_type": "markdown",
   "metadata": {},
   "source": [
    "# Adv. Data Mining\n",
    "### Ryan Durfey\n",
    "## Problem Set 3: Part 3\n",
    "### Chapter 4\n",
    "#### Exercises 12 and 13"
   ]
  },
  {
   "cell_type": "markdown",
   "metadata": {},
   "source": [
    "####12a"
   ]
  },
  {
   "cell_type": "code",
   "execution_count": 1,
   "metadata": {
    "collapsed": false
   },
   "outputs": [
    {
     "name": "stdout",
     "output_type": "stream",
     "text": [
      "8\n"
     ]
    }
   ],
   "source": [
    "def Power():\n",
    "    print 2**3\n",
    "Power()"
   ]
  },
  {
   "cell_type": "markdown",
   "metadata": {},
   "source": [
    "####12b"
   ]
  },
  {
   "cell_type": "code",
   "execution_count": 3,
   "metadata": {
    "collapsed": false
   },
   "outputs": [
    {
     "name": "stdout",
     "output_type": "stream",
     "text": [
      "6561\n"
     ]
    }
   ],
   "source": [
    "def Power2(x,a):\n",
    "    print x**a\n",
    "Power2(3,8)"
   ]
  },
  {
   "cell_type": "markdown",
   "metadata": {},
   "source": [
    "#### 12c"
   ]
  },
  {
   "cell_type": "code",
   "execution_count": 5,
   "metadata": {
    "collapsed": false
   },
   "outputs": [
    {
     "name": "stdout",
     "output_type": "stream",
     "text": [
      "1000\n",
      "2251799813685248\n",
      "2248091\n"
     ]
    }
   ],
   "source": [
    "Power2(10,3)\n",
    "Power2(8,17)\n",
    "Power2(131,3)"
   ]
  },
  {
   "cell_type": "markdown",
   "metadata": {},
   "source": [
    "####12d"
   ]
  },
  {
   "cell_type": "code",
   "execution_count": 62,
   "metadata": {
    "collapsed": false
   },
   "outputs": [
    {
     "data": {
      "text/plain": [
       "27"
      ]
     },
     "execution_count": 62,
     "metadata": {},
     "output_type": "execute_result"
    }
   ],
   "source": [
    "def Power3(x,a):\n",
    "    return x**a\n",
    "object = Power3(3,3)\n",
    "object"
   ]
  },
  {
   "cell_type": "markdown",
   "metadata": {},
   "source": [
    "####12e"
   ]
  },
  {
   "cell_type": "code",
   "execution_count": 72,
   "metadata": {
    "collapsed": false
   },
   "outputs": [
    {
     "data": {
      "text/plain": [
       "[<matplotlib.lines.Line2D at 0x1c2838d0>,\n",
       " <matplotlib.lines.Line2D at 0x1c283ac8>]"
      ]
     },
     "execution_count": 72,
     "metadata": {},
     "output_type": "execute_result"
    },
    {
     "data": {
      "image/png": "[encoded data removed]",
      "text/plain": [
       "<matplotlib.figure.Figure at 0x1b472978>"
      ]
     },
     "metadata": {},
     "output_type": "display_data"
    }
   ],
   "source": [
    "import matplotlib.pyplot as plt\n",
    "%matplotlib inline\n",
    "import numpy as np\n",
    "\n",
    "# must redefine the function because python can't handle lists/vectors easily\n",
    "def Power3(x,a):\n",
    "    return np.power(x,a)\n",
    "\n",
    "x = [1,2,3,4,5,6,7,8,9,10]\n",
    "plt.plot(x,Power3(x,2),'bo',x,Power3(x,2),'k')\n",
    "\n",
    "## note: my apologies for the basic, non-pretty plot. i'm still learning python and its plotting features & i can't get seaborn to install/import on my machine."
   ]
  },
  {
   "cell_type": "markdown",
   "metadata": {},
   "source": [
    "####12f"
   ]
  },
  {
   "cell_type": "code",
   "execution_count": 71,
   "metadata": {
    "collapsed": false
   },
   "outputs": [
    {
     "data": {
      "image/png": "[encoded data removed]",
      "text/plain": [
       "<matplotlib.figure.Figure at 0x1bd64390>"
      ]
     },
     "metadata": {},
     "output_type": "display_data"
    }
   ],
   "source": [
    "## Our new Power3 function can already take in ranges of values, so we can simply call it within the new wrapper function, PlotPower\n",
    "def PlotPower(x,a):\n",
    "    plt.plot(x,Power3(x,a),'bo',x,Power3(x,a),'k')\n",
    "\n",
    "## example\n",
    "PlotPower(range(1,11),3)\n",
    "    "
   ]
  },
  {
   "cell_type": "markdown",
   "metadata": {},
   "source": [
    "####13"
   ]
  },
  {
   "cell_type": "code",
   "execution_count": 182,
   "metadata": {
    "collapsed": false
   },
   "outputs": [
    {
     "data": {
      "text/html": [
       "<table class=\"simpletable\">\n",
       "<caption>Generalized Linear Model Regression Results</caption>\n",
       "<tr>\n",
       "  <th>Dep. Variable:</th>        <td>crim</td>       <th>  No. Observations:  </th>  <td>   506</td> \n",
       "</tr>\n",
       "<tr>\n",
       "  <th>Model:</th>                 <td>GLM</td>       <th>  Df Residuals:      </th>  <td>   492</td> \n",
       "</tr>\n",
       "<tr>\n",
       "  <th>Model Family:</th>       <td>Binomial</td>     <th>  Df Model:          </th>  <td>    13</td> \n",
       "</tr>\n",
       "<tr>\n",
       "  <th>Link Function:</th>        <td>logit</td>      <th>  Scale:             </th>    <td>1.0</td>  \n",
       "</tr>\n",
       "<tr>\n",
       "  <th>Method:</th>               <td>IRLS</td>       <th>  Log-Likelihood:    </th> <td> -105.96</td>\n",
       "</tr>\n",
       "<tr>\n",
       "  <th>Date:</th>           <td>Wed, 22 Apr 2015</td> <th>  Deviance:          </th> <td>  211.93</td>\n",
       "</tr>\n",
       "<tr>\n",
       "  <th>Time:</th>               <td>16:32:27</td>     <th>  Pearson chi2:      </th>  <td>  556.</td> \n",
       "</tr>\n",
       "<tr>\n",
       "  <th>No. Iterations:</th>        <td>11</td>        <th>                     </th>     <td> </td>   \n",
       "</tr>\n",
       "</table>\n",
       "<table class=\"simpletable\">\n",
       "<tr>\n",
       "      <td></td>         <th>coef</th>     <th>std err</th>      <th>z</th>      <th>P>|z|</th> <th>[95.0% Conf. Int.]</th> \n",
       "</tr>\n",
       "<tr>\n",
       "  <th>Intercept</th> <td>  -34.1037</td> <td>    6.530</td> <td>   -5.223</td> <td> 0.000</td> <td>  -46.902   -21.305</td>\n",
       "</tr>\n",
       "<tr>\n",
       "  <th>zn</th>        <td>   -0.0799</td> <td>    0.034</td> <td>   -2.369</td> <td> 0.018</td> <td>   -0.146    -0.014</td>\n",
       "</tr>\n",
       "<tr>\n",
       "  <th>chas</th>      <td>    0.7853</td> <td>    0.729</td> <td>    1.077</td> <td> 0.281</td> <td>   -0.643     2.214</td>\n",
       "</tr>\n",
       "<tr>\n",
       "  <th>indus</th>     <td>   -0.0594</td> <td>    0.044</td> <td>   -1.358</td> <td> 0.174</td> <td>   -0.145     0.026</td>\n",
       "</tr>\n",
       "<tr>\n",
       "  <th>nox</th>       <td>   48.5238</td> <td>    7.397</td> <td>    6.560</td> <td> 0.000</td> <td>   34.027    63.021</td>\n",
       "</tr>\n",
       "<tr>\n",
       "  <th>rm</th>        <td>   -0.4256</td> <td>    0.701</td> <td>   -0.607</td> <td> 0.544</td> <td>   -1.800     0.949</td>\n",
       "</tr>\n",
       "<tr>\n",
       "  <th>age</th>       <td>    0.0222</td> <td>    0.012</td> <td>    1.814</td> <td> 0.070</td> <td>   -0.002     0.046</td>\n",
       "</tr>\n",
       "<tr>\n",
       "  <th>dis</th>       <td>    0.6914</td> <td>    0.218</td> <td>    3.167</td> <td> 0.002</td> <td>    0.264     1.119</td>\n",
       "</tr>\n",
       "<tr>\n",
       "  <th>rad</th>       <td>    0.6565</td> <td>    0.152</td> <td>    4.306</td> <td> 0.000</td> <td>    0.358     0.955</td>\n",
       "</tr>\n",
       "<tr>\n",
       "  <th>tax</th>       <td>   -0.0064</td> <td>    0.003</td> <td>   -2.385</td> <td> 0.017</td> <td>   -0.012    -0.001</td>\n",
       "</tr>\n",
       "<tr>\n",
       "  <th>ptratio</th>   <td>    0.3687</td> <td>    0.122</td> <td>    3.019</td> <td> 0.003</td> <td>    0.129     0.608</td>\n",
       "</tr>\n",
       "<tr>\n",
       "  <th>black</th>     <td>   -0.0135</td> <td>    0.007</td> <td>   -2.069</td> <td> 0.039</td> <td>   -0.026    -0.001</td>\n",
       "</tr>\n",
       "<tr>\n",
       "  <th>lstat</th>     <td>    0.0439</td> <td>    0.049</td> <td>    0.895</td> <td> 0.371</td> <td>   -0.052     0.140</td>\n",
       "</tr>\n",
       "<tr>\n",
       "  <th>medv</th>      <td>    0.1671</td> <td>    0.067</td> <td>    2.497</td> <td> 0.013</td> <td>    0.036     0.298</td>\n",
       "</tr>\n",
       "</table>"
      ],
      "text/plain": [
       "<class 'statsmodels.iolib.summary.Summary'>\n",
       "\"\"\"\n",
       "                 Generalized Linear Model Regression Results                  \n",
       "==============================================================================\n",
       "Dep. Variable:                   crim   No. Observations:                  506\n",
       "Model:                            GLM   Df Residuals:                      492\n",
       "Model Family:                Binomial   Df Model:                           13\n",
       "Link Function:                  logit   Scale:                             1.0\n",
       "Method:                          IRLS   Log-Likelihood:                -105.96\n",
       "Date:                Wed, 22 Apr 2015   Deviance:                       211.93\n",
       "Time:                        16:32:27   Pearson chi2:                     556.\n",
       "No. Iterations:                    11                                         \n",
       "==============================================================================\n",
       "                 coef    std err          z      P>|z|      [95.0% Conf. Int.]\n",
       "------------------------------------------------------------------------------\n",
       "Intercept    -34.1037      6.530     -5.223      0.000       -46.902   -21.305\n",
       "zn            -0.0799      0.034     -2.369      0.018        -0.146    -0.014\n",
       "chas           0.7853      0.729      1.077      0.281        -0.643     2.214\n",
       "indus         -0.0594      0.044     -1.358      0.174        -0.145     0.026\n",
       "nox           48.5238      7.397      6.560      0.000        34.027    63.021\n",
       "rm            -0.4256      0.701     -0.607      0.544        -1.800     0.949\n",
       "age            0.0222      0.012      1.814      0.070        -0.002     0.046\n",
       "dis            0.6914      0.218      3.167      0.002         0.264     1.119\n",
       "rad            0.6565      0.152      4.306      0.000         0.358     0.955\n",
       "tax           -0.0064      0.003     -2.385      0.017        -0.012    -0.001\n",
       "ptratio        0.3687      0.122      3.019      0.003         0.129     0.608\n",
       "black         -0.0135      0.007     -2.069      0.039        -0.026    -0.001\n",
       "lstat          0.0439      0.049      0.895      0.371        -0.052     0.140\n",
       "medv           0.1671      0.067      2.497      0.013         0.036     0.298\n",
       "==============================================================================\n",
       "\"\"\""
      ]
     },
     "execution_count": 182,
     "metadata": {},
     "output_type": "execute_result"
    }
   ],
   "source": [
    "import pandas as pd\n",
    "import statsmodels.api as sm\n",
    "import statsmodels.formula.api as smf\n",
    "\n",
    "Boston = pd.read_csv(\"./Boston.csv\")\n",
    "Boston.keys()\n",
    "\n",
    "## loop through 'crim' and create a binary list corresponding to if the value is above or below the median\n",
    "y = []\n",
    "for i in Boston.crim:\n",
    "    if i > np.median(Boston.crim):\n",
    "        y.append(1)\n",
    "    else:\n",
    "        y.append(0)\n",
    "\n",
    "Boston2 = Boston.drop(['crim'],axis=1,inplace=False)  ## drop original 'crim'\n",
    "Boston2.insert(loc=0,column='crim',value=y)  ## attach new binary variable as 'crim'\n",
    "Boston2['chas'] = Boston2['chas'].astype('category')  ## convert 'chas' variable to a factor\n",
    "#print Boston2['chas'].describe()\n",
    "\n",
    "## logistic regression model using statsmodels\n",
    "formula = 'crim ~ zn + chas + indus + nox + rm + age + dis + rad + tax \\\n",
    "+ ptratio + black + lstat + medv'\n",
    "\n",
    "log_mod = smf.glm(formula=formula,data=Boston2,family=sm.families.Binomial()).fit()\n",
    "log_mod.summary()"
   ]
  },
  {
   "cell_type": "markdown",
   "metadata": {},
   "source": [
    "From the above summary, we see that some of the predictors are significant and some are not. Let's remove the ones that aren't and recreate our model."
   ]
  },
  {
   "cell_type": "code",
   "execution_count": 179,
   "metadata": {
    "collapsed": false
   },
   "outputs": [
    {
     "data": {
      "text/html": [
       "<table class=\"simpletable\">\n",
       "<caption>Generalized Linear Model Regression Results</caption>\n",
       "<tr>\n",
       "  <th>Dep. Variable:</th>        <td>crim</td>       <th>  No. Observations:  </th>  <td>   506</td> \n",
       "</tr>\n",
       "<tr>\n",
       "  <th>Model:</th>                 <td>GLM</td>       <th>  Df Residuals:      </th>  <td>   497</td> \n",
       "</tr>\n",
       "<tr>\n",
       "  <th>Model Family:</th>       <td>Binomial</td>     <th>  Df Model:          </th>  <td>     8</td> \n",
       "</tr>\n",
       "<tr>\n",
       "  <th>Link Function:</th>        <td>logit</td>      <th>  Scale:             </th>    <td>1.0</td>  \n",
       "</tr>\n",
       "<tr>\n",
       "  <th>Method:</th>               <td>IRLS</td>       <th>  Log-Likelihood:    </th> <td> -110.89</td>\n",
       "</tr>\n",
       "<tr>\n",
       "  <th>Date:</th>           <td>Wed, 22 Apr 2015</td> <th>  Deviance:          </th> <td>  221.78</td>\n",
       "</tr>\n",
       "<tr>\n",
       "  <th>Time:</th>               <td>16:19:00</td>     <th>  Pearson chi2:      </th>  <td>  385.</td> \n",
       "</tr>\n",
       "<tr>\n",
       "  <th>No. Iterations:</th>        <td>11</td>        <th>                     </th>     <td> </td>   \n",
       "</tr>\n",
       "</table>\n",
       "<table class=\"simpletable\">\n",
       "<tr>\n",
       "      <td></td>         <th>coef</th>     <th>std err</th>      <th>z</th>      <th>P>|z|</th> <th>[95.0% Conf. Int.]</th> \n",
       "</tr>\n",
       "<tr>\n",
       "  <th>Intercept</th> <td>  -28.3477</td> <td>    5.570</td> <td>   -5.089</td> <td> 0.000</td> <td>  -39.264   -17.431</td>\n",
       "</tr>\n",
       "<tr>\n",
       "  <th>zn</th>        <td>   -0.0745</td> <td>    0.030</td> <td>   -2.485</td> <td> 0.013</td> <td>   -0.133    -0.016</td>\n",
       "</tr>\n",
       "<tr>\n",
       "  <th>nox</th>       <td>   44.1804</td> <td>    6.290</td> <td>    7.024</td> <td> 0.000</td> <td>   31.853    56.508</td>\n",
       "</tr>\n",
       "<tr>\n",
       "  <th>dis</th>       <td>    0.4898</td> <td>    0.195</td> <td>    2.513</td> <td> 0.012</td> <td>    0.108     0.872</td>\n",
       "</tr>\n",
       "<tr>\n",
       "  <th>rad</th>       <td>    0.6921</td> <td>    0.138</td> <td>    5.021</td> <td> 0.000</td> <td>    0.422     0.962</td>\n",
       "</tr>\n",
       "<tr>\n",
       "  <th>tax</th>       <td>   -0.0074</td> <td>    0.002</td> <td>   -3.067</td> <td> 0.002</td> <td>   -0.012    -0.003</td>\n",
       "</tr>\n",
       "<tr>\n",
       "  <th>ptratio</th>   <td>    0.2721</td> <td>    0.107</td> <td>    2.536</td> <td> 0.011</td> <td>    0.062     0.482</td>\n",
       "</tr>\n",
       "<tr>\n",
       "  <th>black</th>     <td>   -0.0135</td> <td>    0.006</td> <td>   -2.130</td> <td> 0.033</td> <td>   -0.026    -0.001</td>\n",
       "</tr>\n",
       "<tr>\n",
       "  <th>medv</th>      <td>    0.0879</td> <td>    0.031</td> <td>    2.856</td> <td> 0.004</td> <td>    0.028     0.148</td>\n",
       "</tr>\n",
       "</table>"
      ],
      "text/plain": [
       "<class 'statsmodels.iolib.summary.Summary'>\n",
       "\"\"\"\n",
       "                 Generalized Linear Model Regression Results                  \n",
       "==============================================================================\n",
       "Dep. Variable:                   crim   No. Observations:                  506\n",
       "Model:                            GLM   Df Residuals:                      497\n",
       "Model Family:                Binomial   Df Model:                            8\n",
       "Link Function:                  logit   Scale:                             1.0\n",
       "Method:                          IRLS   Log-Likelihood:                -110.89\n",
       "Date:                Wed, 22 Apr 2015   Deviance:                       221.78\n",
       "Time:                        16:19:00   Pearson chi2:                     385.\n",
       "No. Iterations:                    11                                         \n",
       "==============================================================================\n",
       "                 coef    std err          z      P>|z|      [95.0% Conf. Int.]\n",
       "------------------------------------------------------------------------------\n",
       "Intercept    -28.3477      5.570     -5.089      0.000       -39.264   -17.431\n",
       "zn            -0.0745      0.030     -2.485      0.013        -0.133    -0.016\n",
       "nox           44.1804      6.290      7.024      0.000        31.853    56.508\n",
       "dis            0.4898      0.195      2.513      0.012         0.108     0.872\n",
       "rad            0.6921      0.138      5.021      0.000         0.422     0.962\n",
       "tax           -0.0074      0.002     -3.067      0.002        -0.012    -0.003\n",
       "ptratio        0.2721      0.107      2.536      0.011         0.062     0.482\n",
       "black         -0.0135      0.006     -2.130      0.033        -0.026    -0.001\n",
       "medv           0.0879      0.031      2.856      0.004         0.028     0.148\n",
       "==============================================================================\n",
       "\"\"\""
      ]
     },
     "execution_count": 179,
     "metadata": {},
     "output_type": "execute_result"
    }
   ],
   "source": [
    "## logistic regression model using statsmodels\n",
    "formula2 = 'crim ~ zn + nox +  + dis + rad + tax + ptratio + black + medv'\n",
    "\n",
    "log_mod2 = smf.glm(formula=formula2,data=Boston2,family=sm.families.Binomial()).fit()\n",
    "log_mod2.summary()"
   ]
  },
  {
   "cell_type": "markdown",
   "metadata": {},
   "source": [
    "Now let's try to use this model to predict the values and see how success it is. For posterity, we can compare this to the first, full model that was created previously as well."
   ]
  },
  {
   "cell_type": "code",
   "execution_count": 184,
   "metadata": {
    "collapsed": false
   },
   "outputs": [
    {
     "name": "stdout",
     "output_type": "stream",
     "text": [
      "Predicted    0    1\n",
      "Actual             \n",
      "0          229   24\n",
      "1           30  223\n",
      "Accuracy Score for reduced model: 0.893280632411\n"
     ]
    }
   ],
   "source": [
    "## get predicted values from reduced (2nd) model\n",
    "predicted = log_mod2.predict()\n",
    "threshold = 0.5\n",
    "predicted = (predicted > threshold).astype(int)\n",
    "predicted\n",
    "\n",
    "print pd.crosstab(Boston2.crim,predicted,rownames=['Actual'],colnames=['Predicted'])\n",
    "print \"Accuracy Score for reduced model: %s\" % accuracy_score(Boston2.crim,predicted)"
   ]
  },
  {
   "cell_type": "code",
   "execution_count": 185,
   "metadata": {
    "collapsed": false
   },
   "outputs": [
    {
     "name": "stdout",
     "output_type": "stream",
     "text": [
      "Predicted    0    1\n",
      "Actual             \n",
      "0          234   19\n",
      "1           24  229\n",
      "Accuracy Score for full model: 0.915019762846\n"
     ]
    }
   ],
   "source": [
    "## get predicted values from 1st, full model\n",
    "predicted_full = log_mod.predict()\n",
    "threshold = 0.5\n",
    "predicted_full = (predicted_full > threshold).astype(int)\n",
    "predicted_full\n",
    "\n",
    "print pd.crosstab(Boston2.crim,predicted_full,rownames=['Actual'],colnames=['Predicted'])\n",
    "print \"Accuracy Score for full model: %s\" % accuracy_score(Boston2.crim,predicted_full)"
   ]
  },
  {
   "cell_type": "markdown",
   "metadata": {},
   "source": [
    "So, as it turns out, our full model looks to have a slightly higher accuracy score than the pared down one. Although, both have a decent enough accuracy score (and therefore fairly low error rate). \n",
    "\n",
    "However, we need to keep in mind that this is only calculated for the data that the model was trained on! Therefore, it makes sense that the more complex model does better. To more thoroughly understand which model is better, we need to do holdout testing. We would subset training and test datasets, create the model using the training set, then test its prediction accuracy with the test set. With this method, we are better equipped to avoid overfitting and understand the bias-variance trade-off with model complexity."
   ]
  },
  {
   "cell_type": "code",
   "execution_count": null,
   "metadata": {
    "collapsed": true
   },
   "outputs": [],
   "source": []
  }
 ],
 "metadata": {
  "kernelspec": {
   "display_name": "Python 2",
   "language": "python",
   "name": "python2"
  },
  "language_info": {
   "codemirror_mode": {
    "name": "ipython",
    "version": 2
   },
   "file_extension": ".py",
   "mimetype": "text/x-python",
   "name": "python",
   "nbconvert_exporter": "python",
   "pygments_lexer": "ipython2",
   "version": "2.7.9"
  }
 },
 "nbformat": 4,
 "nbformat_minor": 0
}
