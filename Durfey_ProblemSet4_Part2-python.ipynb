{
 "cells": [
  {
   "cell_type": "markdown",
   "metadata": {},
   "source": [
    "# Adv. Data Mining\n",
    "### Ryan Durfey\n",
    "## Problem Set 4: Part 2 - Python\n",
    "\n",
    "## Chapter 5\n",
    "### Exercise 5"
   ]
  },
  {
   "cell_type": "code",
   "execution_count": 96,
   "metadata": {
    "collapsed": false
   },
   "outputs": [],
   "source": [
    "import numpy as np\n",
    "import pandas as pd\n",
    "import matplotlib.pyplot as plt\n",
    "from sklearn.linear_model import LogisticRegression\n",
    "# sklearn.metrics has a bunch of really handy evaluation functions\n",
    "from sklearn.metrics import confusion_matrix, accuracy_score, classification_report, roc_curve, roc_auc_score\n",
    "from sklearn.cross_validation import train_test_split\n",
    "#import seaborn as sns  ## seaborn does not work; has never worked\n",
    "from sklearn import preprocessing"
   ]
  },
  {
   "cell_type": "code",
   "execution_count": 13,
   "metadata": {
    "collapsed": false
   },
   "outputs": [
    {
     "data": {
      "text/html": [
       "<div style=\"max-height:1000px;max-width:1500px;overflow:auto;\">\n",
       "<table border=\"1\" class=\"dataframe\">\n",
       "  <thead>\n",
       "    <tr style=\"text-align: right;\">\n",
       "      <th></th>\n",
       "      <th>Unnamed: 0</th>\n",
       "      <th>default</th>\n",
       "      <th>student</th>\n",
       "      <th>balance</th>\n",
       "      <th>income</th>\n",
       "    </tr>\n",
       "  </thead>\n",
       "  <tbody>\n",
       "    <tr>\n",
       "      <th>0</th>\n",
       "      <td> 1</td>\n",
       "      <td> No</td>\n",
       "      <td>  No</td>\n",
       "      <td>  729.526495</td>\n",
       "      <td> 44361.625074</td>\n",
       "    </tr>\n",
       "    <tr>\n",
       "      <th>1</th>\n",
       "      <td> 2</td>\n",
       "      <td> No</td>\n",
       "      <td> Yes</td>\n",
       "      <td>  817.180407</td>\n",
       "      <td> 12106.134700</td>\n",
       "    </tr>\n",
       "    <tr>\n",
       "      <th>2</th>\n",
       "      <td> 3</td>\n",
       "      <td> No</td>\n",
       "      <td>  No</td>\n",
       "      <td> 1073.549164</td>\n",
       "      <td> 31767.138947</td>\n",
       "    </tr>\n",
       "    <tr>\n",
       "      <th>3</th>\n",
       "      <td> 4</td>\n",
       "      <td> No</td>\n",
       "      <td>  No</td>\n",
       "      <td>  529.250605</td>\n",
       "      <td> 35704.493935</td>\n",
       "    </tr>\n",
       "    <tr>\n",
       "      <th>4</th>\n",
       "      <td> 5</td>\n",
       "      <td> No</td>\n",
       "      <td>  No</td>\n",
       "      <td>  785.655883</td>\n",
       "      <td> 38463.495879</td>\n",
       "    </tr>\n",
       "  </tbody>\n",
       "</table>\n",
       "</div>"
      ],
      "text/plain": [
       "   Unnamed: 0 default student      balance        income\n",
       "0           1      No      No   729.526495  44361.625074\n",
       "1           2      No     Yes   817.180407  12106.134700\n",
       "2           3      No      No  1073.549164  31767.138947\n",
       "3           4      No      No   529.250605  35704.493935\n",
       "4           5      No      No   785.655883  38463.495879"
      ]
     },
     "execution_count": 13,
     "metadata": {},
     "output_type": "execute_result"
    }
   ],
   "source": [
    "## read in data\n",
    "Default = pd.read_csv(\"./Default.csv\")\n",
    "Default.keys()\n",
    "Default.head()"
   ]
  },
  {
   "cell_type": "markdown",
   "metadata": {},
   "source": [
    "### Part A"
   ]
  },
  {
   "cell_type": "code",
   "execution_count": 24,
   "metadata": {
    "collapsed": false
   },
   "outputs": [
    {
     "data": {
      "text/plain": [
       "LogisticRegression(C=1.0, class_weight=None, dual=False, fit_intercept=True,\n",
       "          intercept_scaling=1, penalty='l2', random_state=None, tol=0.0001)"
      ]
     },
     "execution_count": 24,
     "metadata": {},
     "output_type": "execute_result"
    }
   ],
   "source": [
    "## create logistic regression model on whole data set\n",
    "X = Default[['income','balance']]\n",
    "y = Default.default\n",
    "\n",
    "logit = LogisticRegression()\n",
    "logit.fit(X,y)"
   ]
  },
  {
   "cell_type": "markdown",
   "metadata": {},
   "source": [
    "### Part B"
   ]
  },
  {
   "cell_type": "code",
   "execution_count": 66,
   "metadata": {
    "collapsed": false
   },
   "outputs": [],
   "source": [
    "## create training and validation sets\n",
    "train, test = train_test_split(Default,test_size = 0.3)\n",
    "train = pd.DataFrame(train,columns=['index','default','student','balance','income'])\n",
    "test = pd.DataFrame(test,columns=['index','default','student','balance','income'])\n",
    "\n",
    "X_train = train[['income','balance']]\n",
    "y_train = train.default\n",
    "X_test = test[['income','balance']]\n",
    "y_test = test.default"
   ]
  },
  {
   "cell_type": "code",
   "execution_count": 89,
   "metadata": {
    "collapsed": false
   },
   "outputs": [
    {
     "data": {
      "text/plain": [
       "0.027"
      ]
     },
     "execution_count": 89,
     "metadata": {},
     "output_type": "execute_result"
    }
   ],
   "source": [
    "## fit logistic model using only train set\n",
    "logit_train = LogisticRegression()\n",
    "logit_train.fit(X_train,y_train)\n",
    "\n",
    "## prediction on test set\n",
    "test_pred = logit_train.predict(X_test)\n",
    "test_pred\n",
    "\n",
    "## test error\n",
    "test_error = float(sum(test_pred!=y_test))/float(len(X_test))\n",
    "test_error"
   ]
  },
  {
   "cell_type": "markdown",
   "metadata": {},
   "source": [
    "### Part C"
   ]
  },
  {
   "cell_type": "code",
   "execution_count": 90,
   "metadata": {
    "collapsed": false
   },
   "outputs": [
    {
     "data": {
      "text/plain": [
       "0.034333333333333334"
      ]
     },
     "execution_count": 90,
     "metadata": {},
     "output_type": "execute_result"
    }
   ],
   "source": [
    "## make 3 other train/test splits, make models, & calculate test error\n",
    "\n",
    "#####\n",
    "# 1 #\n",
    "#####\n",
    "train2, test2 = train_test_split(Default,test_size = 0.3)\n",
    "train2 = pd.DataFrame(train2,columns=['index','default','student','balance','income'])\n",
    "test2 = pd.DataFrame(test2,columns=['index','default','student','balance','income'])\n",
    "X_train2 = train2[['income','balance']]\n",
    "y_train2 = train2.default\n",
    "X_test2 = test2[['income','balance']]\n",
    "y_test2 = test2.default\n",
    "\n",
    "logit_train2 = LogisticRegression()\n",
    "logit_train2.fit(X_train2,y_train2)\n",
    "\n",
    "test_pred2 = logit_train2.predict(X_test2)\n",
    "test_pred2\n",
    "\n",
    "test_error2 = float(sum(test_pred2!=y_test2))/float(len(X_test2))\n",
    "test_error2"
   ]
  },
  {
   "cell_type": "code",
   "execution_count": 92,
   "metadata": {
    "collapsed": false
   },
   "outputs": [
    {
     "data": {
      "text/plain": [
       "0.03133333333333333"
      ]
     },
     "execution_count": 92,
     "metadata": {},
     "output_type": "execute_result"
    }
   ],
   "source": [
    "#####\n",
    "# 2 #\n",
    "#####\n",
    "train3, test3 = train_test_split(Default,test_size = 0.3)\n",
    "train3 = pd.DataFrame(train3,columns=['index','default','student','balance','income'])\n",
    "test3 = pd.DataFrame(test3,columns=['index','default','student','balance','income'])\n",
    "X_train3 = train3[['income','balance']]\n",
    "y_train3 = train3.default\n",
    "X_test3 = test3[['income','balance']]\n",
    "y_test3 = test3.default\n",
    "\n",
    "logit_train3 = LogisticRegression()\n",
    "logit_train3.fit(X_train3,y_train3)\n",
    "\n",
    "test_pred3 = logit_train2.predict(X_test2)\n",
    "test_pred3\n",
    "\n",
    "test_error3 = float(sum(test_pred3!=y_test3))/float(len(X_test3))\n",
    "test_error3"
   ]
  },
  {
   "cell_type": "code",
   "execution_count": 109,
   "metadata": {
    "collapsed": false
   },
   "outputs": [
    {
     "data": {
      "text/plain": [
       "0.035"
      ]
     },
     "execution_count": 109,
     "metadata": {},
     "output_type": "execute_result"
    }
   ],
   "source": [
    "#####\n",
    "# 3 #\n",
    "#####\n",
    "train4, test4 = train_test_split(Default,test_size = 0.3)\n",
    "train4 = pd.DataFrame(train4,columns=['index','default','student','balance','income'])\n",
    "test4 = pd.DataFrame(test4,columns=['index','default','student','balance','income'])\n",
    "X_train4 = train4[['income','balance']]\n",
    "y_train4 = train4.default\n",
    "X_test4 = test4[['income','balance']]\n",
    "y_test4 = test4.default\n",
    "\n",
    "logit_train4 = LogisticRegression()\n",
    "logit_train4.fit(X_train4,y_train4)\n",
    "\n",
    "test_pred4 = logit_train2.predict(X_test4)\n",
    "test_pred4\n",
    "\n",
    "test_error4 = float(sum(test_pred4!=y_test4))/float(len(X_test4))\n",
    "test_error4"
   ]
  },
  {
   "cell_type": "markdown",
   "metadata": {},
   "source": [
    "Just like what we observed when doing this exercise in R, we are seeing differing test errors depending on the random train-test set splits."
   ]
  },
  {
   "cell_type": "markdown",
   "metadata": {},
   "source": [
    "### Part D"
   ]
  },
  {
   "cell_type": "code",
   "execution_count": 111,
   "metadata": {
    "collapsed": false
   },
   "outputs": [
    {
     "data": {
      "text/plain": [
       "0.027"
      ]
     },
     "execution_count": 111,
     "metadata": {},
     "output_type": "execute_result"
    }
   ],
   "source": [
    "## add student variable - use first train-test split indices so we can compare against the previous model from part B\n",
    "## will need to turn student into a dummy variable\n",
    "X_train5 = train[['income','balance','student']]\n",
    "student_dummy = pd.get_dummies(X_train5['student'],prefix='student')\n",
    "X_train5 = X_train5[['income','balance']].join(student_dummy.ix[:,'student_Yes':])\n",
    "y_train5 = train.default\n",
    "X_test5 = test[['income','balance','student']]\n",
    "student_dummy2 = pd.get_dummies(X_test5['student'],prefix='student')\n",
    "X_test5 = X_test5[['income','balance']].join(student_dummy.ix[:,'student_Yes':])\n",
    "y_test5 = test.default\n",
    "\n",
    "logit_train5 = LogisticRegression()\n",
    "logit_train5.fit(X_train5,y_train5)\n",
    "\n",
    "test_pred5 = logit_train5.predict(X_test5)\n",
    "test_pred5\n",
    "\n",
    "test_error5 = float(sum(test_pred5!=y_test5))/float(len(X_test5))\n",
    "test_error5"
   ]
  },
  {
   "cell_type": "markdown",
   "metadata": {},
   "source": [
    "Again, just like we observed when working in R, adding the student variable does not seem to help the model perform better."
   ]
  }
 ],
 "metadata": {
  "kernelspec": {
   "display_name": "Python 2",
   "language": "python",
   "name": "python2"
  },
  "language_info": {
   "codemirror_mode": {
    "name": "ipython",
    "version": 2
   },
   "file_extension": ".py",
   "mimetype": "text/x-python",
   "name": "python",
   "nbconvert_exporter": "python",
   "pygments_lexer": "ipython2",
   "version": "2.7.9"
  }
 },
 "nbformat": 4,
 "nbformat_minor": 0
}
