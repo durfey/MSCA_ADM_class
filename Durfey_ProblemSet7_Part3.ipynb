{
 "cells": [
  {
   "cell_type": "markdown",
   "metadata": {},
   "source": [
    "# Adv. Data Mining\n",
    "### Ryan Durfey\n",
    "## Problem Set 7: Part 3 - Python\n",
    "\n",
    "## Chapter 9\n",
    "## Exercise 8"
   ]
  },
  {
   "cell_type": "code",
   "execution_count": 1,
   "metadata": {
    "collapsed": true
   },
   "outputs": [],
   "source": [
    "%matplotlib inline"
   ]
  },
  {
   "cell_type": "code",
   "execution_count": 4,
   "metadata": {
    "collapsed": true
   },
   "outputs": [],
   "source": [
    "import numpy as np\n",
    "import pandas as pd\n",
    "import matplotlib.pyplot as plt\n",
    "# this is a new import\n",
    "from sklearn.svm import SVC, LinearSVC\n",
    "from sklearn.metrics import confusion_matrix, accuracy_score, classification_report, roc_curve, roc_auc_score\n",
    "from sklearn.cross_validation import train_test_split\n",
    "from sklearn import datasets\n",
    "import seaborn as sns\n",
    "\n",
    "from sklearn.cross_validation import StratifiedKFold\n",
    "from sklearn.grid_search import GridSearchCV"
   ]
  },
  {
   "cell_type": "code",
   "execution_count": 5,
   "metadata": {
    "collapsed": false
   },
   "outputs": [
    {
     "data": {
      "text/html": [
       "<div style=\"max-height:1000px;max-width:1500px;overflow:auto;\">\n",
       "<table border=\"1\" class=\"dataframe\">\n",
       "  <thead>\n",
       "    <tr style=\"text-align: right;\">\n",
       "      <th></th>\n",
       "      <th>Unnamed: 0</th>\n",
       "      <th>Purchase</th>\n",
       "      <th>WeekofPurchase</th>\n",
       "      <th>StoreID</th>\n",
       "      <th>PriceCH</th>\n",
       "      <th>PriceMM</th>\n",
       "      <th>DiscCH</th>\n",
       "      <th>DiscMM</th>\n",
       "      <th>SpecialCH</th>\n",
       "      <th>SpecialMM</th>\n",
       "      <th>LoyalCH</th>\n",
       "      <th>SalePriceMM</th>\n",
       "      <th>SalePriceCH</th>\n",
       "      <th>PriceDiff</th>\n",
       "      <th>Store7</th>\n",
       "      <th>PctDiscMM</th>\n",
       "      <th>PctDiscCH</th>\n",
       "      <th>ListPriceDiff</th>\n",
       "      <th>STORE</th>\n",
       "    </tr>\n",
       "  </thead>\n",
       "  <tbody>\n",
       "    <tr>\n",
       "      <th>0</th>\n",
       "      <td> 1</td>\n",
       "      <td> CH</td>\n",
       "      <td> 237</td>\n",
       "      <td> 1</td>\n",
       "      <td> 1.75</td>\n",
       "      <td> 1.99</td>\n",
       "      <td> 0.00</td>\n",
       "      <td> 0.0</td>\n",
       "      <td> 0</td>\n",
       "      <td> 0</td>\n",
       "      <td> 0.500000</td>\n",
       "      <td> 1.99</td>\n",
       "      <td> 1.75</td>\n",
       "      <td> 0.24</td>\n",
       "      <td>  No</td>\n",
       "      <td> 0.000000</td>\n",
       "      <td> 0.000000</td>\n",
       "      <td> 0.24</td>\n",
       "      <td> 1</td>\n",
       "    </tr>\n",
       "    <tr>\n",
       "      <th>1</th>\n",
       "      <td> 2</td>\n",
       "      <td> CH</td>\n",
       "      <td> 239</td>\n",
       "      <td> 1</td>\n",
       "      <td> 1.75</td>\n",
       "      <td> 1.99</td>\n",
       "      <td> 0.00</td>\n",
       "      <td> 0.3</td>\n",
       "      <td> 0</td>\n",
       "      <td> 1</td>\n",
       "      <td> 0.600000</td>\n",
       "      <td> 1.69</td>\n",
       "      <td> 1.75</td>\n",
       "      <td>-0.06</td>\n",
       "      <td>  No</td>\n",
       "      <td> 0.150754</td>\n",
       "      <td> 0.000000</td>\n",
       "      <td> 0.24</td>\n",
       "      <td> 1</td>\n",
       "    </tr>\n",
       "    <tr>\n",
       "      <th>2</th>\n",
       "      <td> 3</td>\n",
       "      <td> CH</td>\n",
       "      <td> 245</td>\n",
       "      <td> 1</td>\n",
       "      <td> 1.86</td>\n",
       "      <td> 2.09</td>\n",
       "      <td> 0.17</td>\n",
       "      <td> 0.0</td>\n",
       "      <td> 0</td>\n",
       "      <td> 0</td>\n",
       "      <td> 0.680000</td>\n",
       "      <td> 2.09</td>\n",
       "      <td> 1.69</td>\n",
       "      <td> 0.40</td>\n",
       "      <td>  No</td>\n",
       "      <td> 0.000000</td>\n",
       "      <td> 0.091398</td>\n",
       "      <td> 0.23</td>\n",
       "      <td> 1</td>\n",
       "    </tr>\n",
       "    <tr>\n",
       "      <th>3</th>\n",
       "      <td> 4</td>\n",
       "      <td> MM</td>\n",
       "      <td> 227</td>\n",
       "      <td> 1</td>\n",
       "      <td> 1.69</td>\n",
       "      <td> 1.69</td>\n",
       "      <td> 0.00</td>\n",
       "      <td> 0.0</td>\n",
       "      <td> 0</td>\n",
       "      <td> 0</td>\n",
       "      <td> 0.400000</td>\n",
       "      <td> 1.69</td>\n",
       "      <td> 1.69</td>\n",
       "      <td> 0.00</td>\n",
       "      <td>  No</td>\n",
       "      <td> 0.000000</td>\n",
       "      <td> 0.000000</td>\n",
       "      <td> 0.00</td>\n",
       "      <td> 1</td>\n",
       "    </tr>\n",
       "    <tr>\n",
       "      <th>4</th>\n",
       "      <td> 5</td>\n",
       "      <td> CH</td>\n",
       "      <td> 228</td>\n",
       "      <td> 7</td>\n",
       "      <td> 1.69</td>\n",
       "      <td> 1.69</td>\n",
       "      <td> 0.00</td>\n",
       "      <td> 0.0</td>\n",
       "      <td> 0</td>\n",
       "      <td> 0</td>\n",
       "      <td> 0.956535</td>\n",
       "      <td> 1.69</td>\n",
       "      <td> 1.69</td>\n",
       "      <td> 0.00</td>\n",
       "      <td> Yes</td>\n",
       "      <td> 0.000000</td>\n",
       "      <td> 0.000000</td>\n",
       "      <td> 0.00</td>\n",
       "      <td> 0</td>\n",
       "    </tr>\n",
       "  </tbody>\n",
       "</table>\n",
       "</div>"
      ],
      "text/plain": [
       "   Unnamed: 0 Purchase  WeekofPurchase  StoreID  PriceCH  PriceMM  DiscCH  \\\n",
       "0           1       CH             237        1     1.75     1.99    0.00   \n",
       "1           2       CH             239        1     1.75     1.99    0.00   \n",
       "2           3       CH             245        1     1.86     2.09    0.17   \n",
       "3           4       MM             227        1     1.69     1.69    0.00   \n",
       "4           5       CH             228        7     1.69     1.69    0.00   \n",
       "\n",
       "   DiscMM  SpecialCH  SpecialMM   LoyalCH  SalePriceMM  SalePriceCH  \\\n",
       "0     0.0          0          0  0.500000         1.99         1.75   \n",
       "1     0.3          0          1  0.600000         1.69         1.75   \n",
       "2     0.0          0          0  0.680000         2.09         1.69   \n",
       "3     0.0          0          0  0.400000         1.69         1.69   \n",
       "4     0.0          0          0  0.956535         1.69         1.69   \n",
       "\n",
       "   PriceDiff Store7  PctDiscMM  PctDiscCH  ListPriceDiff  STORE  \n",
       "0       0.24     No   0.000000   0.000000           0.24      1  \n",
       "1      -0.06     No   0.150754   0.000000           0.24      1  \n",
       "2       0.40     No   0.000000   0.091398           0.23      1  \n",
       "3       0.00     No   0.000000   0.000000           0.00      1  \n",
       "4       0.00    Yes   0.000000   0.000000           0.00      0  "
      ]
     },
     "execution_count": 5,
     "metadata": {},
     "output_type": "execute_result"
    }
   ],
   "source": [
    "OJ = pd.read_csv(\"./OJ.csv\")\n",
    "OJ.head()"
   ]
  },
  {
   "cell_type": "markdown",
   "metadata": {},
   "source": [
    "#8a"
   ]
  },
  {
   "cell_type": "code",
   "execution_count": 6,
   "metadata": {
    "collapsed": false
   },
   "outputs": [],
   "source": [
    "## make into pd.Dataframe so that we can drop/select columns\n",
    "OJ_DF = pd.DataFrame(OJ,columns=['Purchase','WeekofPurchase','StoreID','PriceCH','PriceMM','DiscCH','DiscMM','SpecialCH','SpecialMM','LoyalCH','SalePriceMM','SalePriceCH','PriceDiff','Store7','PctDiscMM','PctDiscCH','ListPriceDiff','STORE'])\n",
    "\n",
    "## separate X and y\n",
    "X = OJ_DF.drop(['Purchase','Store7'],axis=1) # python hates the string variables, so must drop Store7\n",
    "y = OJ_DF.Purchase\n",
    "\n",
    "## create training and validation sets\n",
    "X_train, X_test, y_train, y_test = train_test_split(X, y, test_size = (len(OJ)-800))\n"
   ]
  },
  {
   "cell_type": "code",
   "execution_count": 7,
   "metadata": {
    "collapsed": false
   },
   "outputs": [],
   "source": [
    "def train_svm(kernel=\"linear\", C=1.0, gamma=0.0):\n",
    "\n",
    "    svm = SVC(kernel=kernel, C=C, gamma=gamma)\n",
    "    svm.fit(X_train, y_train)\n",
    "    \n",
    "    # predict on training set\n",
    "    y_preds_train = svm.predict(X_train)\n",
    "\n",
    "    # predict on the test set\n",
    "    y_preds_test = svm.predict(X_test)\n",
    "    # get the distances from the hyperplane, the sign of which\n",
    "    # is the prediction above\n",
    "    y_dists = svm.decision_function(X_test)\n",
    "    \n",
    "    return (svm, y_preds_train, y_preds_test, y_dists)"
   ]
  },
  {
   "cell_type": "markdown",
   "metadata": {},
   "source": [
    "#8b"
   ]
  },
  {
   "cell_type": "code",
   "execution_count": 8,
   "metadata": {
    "collapsed": false
   },
   "outputs": [
    {
     "data": {
      "text/plain": [
       "array([309, 308])"
      ]
     },
     "execution_count": 8,
     "metadata": {},
     "output_type": "execute_result"
    }
   ],
   "source": [
    "svm_linear, y_preds_train, y_preds_test, y_dists_linear = train_svm(kernel=\"linear\",C=0.01)\n",
    "svm_linear.n_support_\n",
    "\n",
    "## It looks like the Support Vector Classifier creates 609 support vectors, with 306 and 303 belonging to each class"
   ]
  },
  {
   "cell_type": "code",
   "execution_count": 9,
   "metadata": {
    "collapsed": false
   },
   "outputs": [
    {
     "data": {
      "text/plain": [
       "array([309, 308])"
      ]
     },
     "execution_count": 9,
     "metadata": {},
     "output_type": "execute_result"
    }
   ],
   "source": [
    "svm_linear.n_support_"
   ]
  },
  {
   "cell_type": "markdown",
   "metadata": {},
   "source": [
    "#8c"
   ]
  },
  {
   "cell_type": "code",
   "execution_count": 10,
   "metadata": {
    "collapsed": false
   },
   "outputs": [
    {
     "name": "stdout",
     "output_type": "stream",
     "text": [
      "Train Error is 0.23875\n",
      "Test Error is 0.274074074074\n"
     ]
    }
   ],
   "source": [
    "## training error rate\n",
    "train_error = float(sum(y_preds_train!=y_train))/float(len(X_train))\n",
    "print \"Train Error is %s\" % train_error\n",
    "\n",
    "## test error rate\n",
    "test_error = float(sum(y_preds_test!=y_test))/float(len(X_test))\n",
    "print \"Test Error is %s\" % test_error"
   ]
  },
  {
   "cell_type": "markdown",
   "metadata": {},
   "source": [
    "#8d"
   ]
  },
  {
   "cell_type": "code",
   "execution_count": 12,
   "metadata": {
    "collapsed": false
   },
   "outputs": [
    {
     "name": "stdout",
     "output_type": "stream",
     "text": [
      "('The best classifier is: ', SVC(C=100000.0, cache_size=200, class_weight=None, coef0=0.0, degree=3,\n",
      "  gamma=1.0000000000000001e-05, kernel='rbf', max_iter=-1,\n",
      "  probability=False, random_state=None, shrinking=True, tol=0.001,\n",
      "  verbose=False))\n"
     ]
    }
   ],
   "source": [
    "#C_param = 10. ** np.arange(-2, 9)\n",
    "#train_err = []\n",
    "#test_err = []\n",
    "#for i in C_param:\n",
    "#    svm = SVC(kernel=\"linear\", C=i)\n",
    "#    svm.fit(X_train,y_train)\n",
    "#    train_err.append(float(sum(svm.predict(X_train) != y_train))/float(len(X_train)))\n",
    "#    test_err.append(float(sum(svm.predict(X_test) != y_test))/float(len(X_test)))\n",
    "\n",
    "\n",
    "C_range = 10. ** np.arange(-2, 9)\n",
    "gamma_range = 10. ** np.arange(-5, 4)\n",
    "\n",
    "param_grid = dict(gamma=gamma_range, C=C_range)\n",
    "\n",
    "grid = GridSearchCV(SVC(), param_grid=param_grid, cv=StratifiedKFold(y=y))\n",
    "\n",
    "grid.fit(X, y)\n",
    "\n",
    "print(\"The best classifier is: \", grid.best_estimator_)"
   ]
  },
  {
   "cell_type": "code",
   "execution_count": null,
   "metadata": {
    "collapsed": false
   },
   "outputs": [],
   "source": [
    "plt.plot(C_param,train_err)\n",
    "plt.title('Training Error as a function of C')\n",
    "plt.xlabel('C')\n",
    "plt.ylabel('Training Error')"
   ]
  },
  {
   "cell_type": "code",
   "execution_count": null,
   "metadata": {
    "collapsed": false
   },
   "outputs": [],
   "source": [
    "plt.plot(C_param,test_err)\n",
    "plt.title('Test Error as a function of C')\n",
    "plt.xlabel('C')\n",
    "plt.ylabel('Test Error')"
   ]
  },
  {
   "cell_type": "code",
   "execution_count": null,
   "metadata": {
    "collapsed": false
   },
   "outputs": [],
   "source": [
    "?SVC\n"
   ]
  }
 ],
 "metadata": {
  "kernelspec": {
   "display_name": "Python 2",
   "language": "python",
   "name": "python2"
  },
  "language_info": {
   "codemirror_mode": {
    "name": "ipython",
    "version": 2
   },
   "file_extension": ".py",
   "mimetype": "text/x-python",
   "name": "python",
   "nbconvert_exporter": "python",
   "pygments_lexer": "ipython2",
   "version": "2.7.9"
  }
 },
 "nbformat": 4,
 "nbformat_minor": 0
}
